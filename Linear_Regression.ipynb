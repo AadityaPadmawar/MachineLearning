{
 "cells": [
  {
   "cell_type": "code",
   "execution_count": 1,
   "metadata": {
    "collapsed": false
   },
   "outputs": [],
   "source": [
    "import numpy as np\n",
    "import pandas as pd\n",
    "import quandl\n",
    "df = quandl.get('WIKI/GOOGL')\n",
    "import math\n",
    "import datetime\n",
    "from sklearn import preprocessing,cross_validation,svm\n",
    "from sklearn.linear_model import LinearRegression\n",
    "import matplotlib.pyplot as plt\n",
    "from matplotlib import style\n",
    "style.use('ggplot')"
   ]
  },
  {
   "cell_type": "code",
   "execution_count": 2,
   "metadata": {
    "collapsed": false
   },
   "outputs": [
    {
     "data": {
      "text/html": [
       "<div>\n",
       "<table border=\"1\" class=\"dataframe\">\n",
       "  <thead>\n",
       "    <tr style=\"text-align: right;\">\n",
       "      <th></th>\n",
       "      <th>Adj. Open</th>\n",
       "      <th>Adj. High</th>\n",
       "      <th>Adj. Low</th>\n",
       "      <th>Adj. Close</th>\n",
       "      <th>Adj. Volume</th>\n",
       "    </tr>\n",
       "    <tr>\n",
       "      <th>Date</th>\n",
       "      <th></th>\n",
       "      <th></th>\n",
       "      <th></th>\n",
       "      <th></th>\n",
       "      <th></th>\n",
       "    </tr>\n",
       "  </thead>\n",
       "  <tbody>\n",
       "    <tr>\n",
       "      <th>2004-08-19</th>\n",
       "      <td>50.159839</td>\n",
       "      <td>52.191109</td>\n",
       "      <td>48.128568</td>\n",
       "      <td>50.322842</td>\n",
       "      <td>44659000.0</td>\n",
       "    </tr>\n",
       "    <tr>\n",
       "      <th>2004-08-20</th>\n",
       "      <td>50.661387</td>\n",
       "      <td>54.708881</td>\n",
       "      <td>50.405597</td>\n",
       "      <td>54.322689</td>\n",
       "      <td>22834300.0</td>\n",
       "    </tr>\n",
       "    <tr>\n",
       "      <th>2004-08-23</th>\n",
       "      <td>55.551482</td>\n",
       "      <td>56.915693</td>\n",
       "      <td>54.693835</td>\n",
       "      <td>54.869377</td>\n",
       "      <td>18256100.0</td>\n",
       "    </tr>\n",
       "    <tr>\n",
       "      <th>2004-08-24</th>\n",
       "      <td>55.792225</td>\n",
       "      <td>55.972783</td>\n",
       "      <td>51.945350</td>\n",
       "      <td>52.597363</td>\n",
       "      <td>15247300.0</td>\n",
       "    </tr>\n",
       "    <tr>\n",
       "      <th>2004-08-25</th>\n",
       "      <td>52.542193</td>\n",
       "      <td>54.167209</td>\n",
       "      <td>52.100830</td>\n",
       "      <td>53.164113</td>\n",
       "      <td>9188600.0</td>\n",
       "    </tr>\n",
       "  </tbody>\n",
       "</table>\n",
       "</div>"
      ],
      "text/plain": [
       "            Adj. Open  Adj. High   Adj. Low  Adj. Close  Adj. Volume\n",
       "Date                                                                \n",
       "2004-08-19  50.159839  52.191109  48.128568   50.322842   44659000.0\n",
       "2004-08-20  50.661387  54.708881  50.405597   54.322689   22834300.0\n",
       "2004-08-23  55.551482  56.915693  54.693835   54.869377   18256100.0\n",
       "2004-08-24  55.792225  55.972783  51.945350   52.597363   15247300.0\n",
       "2004-08-25  52.542193  54.167209  52.100830   53.164113    9188600.0"
      ]
     },
     "execution_count": 2,
     "metadata": {},
     "output_type": "execute_result"
    }
   ],
   "source": [
    "df = df[['Adj. Open','Adj. High','Adj. Low','Adj. Close','Adj. Volume']]\n",
    "df.head()"
   ]
  },
  {
   "cell_type": "code",
   "execution_count": 3,
   "metadata": {
    "collapsed": false
   },
   "outputs": [
    {
     "data": {
      "text/html": [
       "<div>\n",
       "<table border=\"1\" class=\"dataframe\">\n",
       "  <thead>\n",
       "    <tr style=\"text-align: right;\">\n",
       "      <th></th>\n",
       "      <th>Adj. Close</th>\n",
       "      <th>High_Close</th>\n",
       "      <th>Open_Close</th>\n",
       "      <th>Adj. Volume</th>\n",
       "    </tr>\n",
       "    <tr>\n",
       "      <th>Date</th>\n",
       "      <th></th>\n",
       "      <th></th>\n",
       "      <th></th>\n",
       "      <th></th>\n",
       "    </tr>\n",
       "  </thead>\n",
       "  <tbody>\n",
       "    <tr>\n",
       "      <th>2004-08-19</th>\n",
       "      <td>50.322842</td>\n",
       "      <td>3.712563</td>\n",
       "      <td>-0.324968</td>\n",
       "      <td>44659000.0</td>\n",
       "    </tr>\n",
       "    <tr>\n",
       "      <th>2004-08-20</th>\n",
       "      <td>54.322689</td>\n",
       "      <td>0.710922</td>\n",
       "      <td>-7.227007</td>\n",
       "      <td>22834300.0</td>\n",
       "    </tr>\n",
       "    <tr>\n",
       "      <th>2004-08-23</th>\n",
       "      <td>54.869377</td>\n",
       "      <td>3.729433</td>\n",
       "      <td>1.227880</td>\n",
       "      <td>18256100.0</td>\n",
       "    </tr>\n",
       "    <tr>\n",
       "      <th>2004-08-24</th>\n",
       "      <td>52.597363</td>\n",
       "      <td>6.417469</td>\n",
       "      <td>5.726357</td>\n",
       "      <td>15247300.0</td>\n",
       "    </tr>\n",
       "    <tr>\n",
       "      <th>2004-08-25</th>\n",
       "      <td>53.164113</td>\n",
       "      <td>1.886792</td>\n",
       "      <td>-1.183658</td>\n",
       "      <td>9188600.0</td>\n",
       "    </tr>\n",
       "  </tbody>\n",
       "</table>\n",
       "</div>"
      ],
      "text/plain": [
       "            Adj. Close  High_Close  Open_Close  Adj. Volume\n",
       "Date                                                       \n",
       "2004-08-19   50.322842    3.712563   -0.324968   44659000.0\n",
       "2004-08-20   54.322689    0.710922   -7.227007   22834300.0\n",
       "2004-08-23   54.869377    3.729433    1.227880   18256100.0\n",
       "2004-08-24   52.597363    6.417469    5.726357   15247300.0\n",
       "2004-08-25   53.164113    1.886792   -1.183658    9188600.0"
      ]
     },
     "execution_count": 3,
     "metadata": {},
     "output_type": "execute_result"
    }
   ],
   "source": [
    "df['High_Close']= (df['Adj. High']-df['Adj. Close'])/df['Adj. Close']*100.0\n",
    "df['Open_Close']= (df['Adj. Open']-df['Adj. Close'])/df['Adj. Open']*100.0\n",
    "df=df[['Adj. Close','High_Close','Open_Close','Adj. Volume']]\n",
    "df.head()"
   ]
  },
  {
   "cell_type": "code",
   "execution_count": 4,
   "metadata": {
    "collapsed": false
   },
   "outputs": [
    {
     "data": {
      "text/html": [
       "<div>\n",
       "<table border=\"1\" class=\"dataframe\">\n",
       "  <thead>\n",
       "    <tr style=\"text-align: right;\">\n",
       "      <th></th>\n",
       "      <th>Adj. Close</th>\n",
       "      <th>High_Close</th>\n",
       "      <th>Open_Close</th>\n",
       "      <th>Adj. Volume</th>\n",
       "      <th>label_tomorrow_Adj. Close</th>\n",
       "    </tr>\n",
       "    <tr>\n",
       "      <th>Date</th>\n",
       "      <th></th>\n",
       "      <th></th>\n",
       "      <th></th>\n",
       "      <th></th>\n",
       "      <th></th>\n",
       "    </tr>\n",
       "  </thead>\n",
       "  <tbody>\n",
       "    <tr>\n",
       "      <th>2004-08-19</th>\n",
       "      <td>50.322842</td>\n",
       "      <td>3.712563</td>\n",
       "      <td>-0.324968</td>\n",
       "      <td>44659000.0</td>\n",
       "      <td>54.322689</td>\n",
       "    </tr>\n",
       "    <tr>\n",
       "      <th>2004-08-20</th>\n",
       "      <td>54.322689</td>\n",
       "      <td>0.710922</td>\n",
       "      <td>-7.227007</td>\n",
       "      <td>22834300.0</td>\n",
       "      <td>54.869377</td>\n",
       "    </tr>\n",
       "    <tr>\n",
       "      <th>2004-08-23</th>\n",
       "      <td>54.869377</td>\n",
       "      <td>3.729433</td>\n",
       "      <td>1.227880</td>\n",
       "      <td>18256100.0</td>\n",
       "      <td>52.597363</td>\n",
       "    </tr>\n",
       "    <tr>\n",
       "      <th>2004-08-24</th>\n",
       "      <td>52.597363</td>\n",
       "      <td>6.417469</td>\n",
       "      <td>5.726357</td>\n",
       "      <td>15247300.0</td>\n",
       "      <td>53.164113</td>\n",
       "    </tr>\n",
       "    <tr>\n",
       "      <th>2004-08-25</th>\n",
       "      <td>53.164113</td>\n",
       "      <td>1.886792</td>\n",
       "      <td>-1.183658</td>\n",
       "      <td>9188600.0</td>\n",
       "      <td>54.122070</td>\n",
       "    </tr>\n",
       "  </tbody>\n",
       "</table>\n",
       "</div>"
      ],
      "text/plain": [
       "            Adj. Close  High_Close  Open_Close  Adj. Volume  \\\n",
       "Date                                                          \n",
       "2004-08-19   50.322842    3.712563   -0.324968   44659000.0   \n",
       "2004-08-20   54.322689    0.710922   -7.227007   22834300.0   \n",
       "2004-08-23   54.869377    3.729433    1.227880   18256100.0   \n",
       "2004-08-24   52.597363    6.417469    5.726357   15247300.0   \n",
       "2004-08-25   53.164113    1.886792   -1.183658    9188600.0   \n",
       "\n",
       "            label_tomorrow_Adj. Close  \n",
       "Date                                   \n",
       "2004-08-19                  54.322689  \n",
       "2004-08-20                  54.869377  \n",
       "2004-08-23                  52.597363  \n",
       "2004-08-24                  53.164113  \n",
       "2004-08-25                  54.122070  "
      ]
     },
     "execution_count": 4,
     "metadata": {},
     "output_type": "execute_result"
    }
   ],
   "source": [
    "#Shifing label col to tomorrow's close value so  features will be Adj. Close \tHigh_Close \tOpen_Close \tAdj. Volume \n",
    "# and label (to be predicted) is tomorrow's Adj. Close value\n",
    "df['label_tomorrow_Adj. Close']= df['Adj. Close'].shift(-1)\n",
    "#df.dropna(inplace=True)\n",
    "\n",
    "df.head()\n"
   ]
  },
  {
   "cell_type": "code",
   "execution_count": 5,
   "metadata": {
    "collapsed": false
   },
   "outputs": [],
   "source": [
    "# Other variables are features to classifier \n",
    "x= np.array(df.drop(['label_tomorrow_Adj. Close'],1))\n",
    "#x is set of features\n",
    "#selecting all elements except last\n",
    "x=x[:-1]\n",
    "# y / Tomorrow's Ajd. Close value is label to classifier\n",
    "#selecting all elements except last\n",
    "y = np.array(df['label_tomorrow_Adj. Close'])\n",
    "y=y[:-1]\n",
    "\n",
    "#Scaling data to same scale\n",
    "#x= preprocessing.scale(x)\n",
    "    "
   ]
  },
  {
   "cell_type": "code",
   "execution_count": 6,
   "metadata": {
    "collapsed": false
   },
   "outputs": [
    {
     "name": "stdout",
     "output_type": "stream",
     "text": [
      "0.998964997957\n"
     ]
    }
   ],
   "source": [
    "#Spliting data into test train set\n",
    "x_train,x_test,y_train,y_test=cross_validation.train_test_split(x,y,test_size=0.5)\n",
    "#Linear Regression Classifier\n",
    "clf = LinearRegression(n_jobs=-1)\n",
    "#Support vector regression classifier\n",
    "#clf =svm.SVR()\n",
    "#training classifier on train data\n",
    "clf.fit(x_train,y_train)\n",
    "#testing model/classifier on test data\n",
    "accuracy = clf.score(x_test,y_test)\n",
    "print(accuracy)"
   ]
  },
  {
   "cell_type": "code",
   "execution_count": 7,
   "metadata": {
    "collapsed": false
   },
   "outputs": [
    {
     "name": "stdout",
     "output_type": "stream",
     "text": [
      "[ 836.80301204]\n"
     ]
    }
   ],
   "source": [
    "last_day=df.iloc[-1:,:4]\n",
    "forecast_set= clf.predict(last_day)\n",
    "print(forecast_set)"
   ]
  },
  {
   "cell_type": "code",
   "execution_count": 36,
   "metadata": {
    "collapsed": false
   },
   "outputs": [
    {
     "data": {
      "image/png": "[encoded data removed]",
      "text/plain": [
       "<matplotlib.figure.Figure at 0x7fd1a4d1c650>"
      ]
     },
     "metadata": {},
     "output_type": "display_data"
    }
   ],
   "source": [
    "df['forecast']= np.nan\n",
    "last_date=df.iloc[-1].name\n",
    "last_day=last_date.second\n",
    "one_day=86400\n",
    "next_day=one_day+last_day\n",
    "for i in forecast_set:\n",
    "    next_date= datetime.datetime.fromtimestamp(next_day)\n",
    "    next_day=next_day+one_day\n",
    "    df.loc[next_date]=[np.nan for _ in range(len(df.columns)-1)]+[i]\n",
    "df['Adj. Close'].plot()\n",
    "df['forecast'].plot()\n",
    "plt.legend(loc=7)\n",
    "plt.xlabel('Date')\n",
    "plt.ylabel('Price')\n",
    "#plt.axis([2003,2016,0,1000])\n",
    "plt.show()"
   ]
  },
  {
   "cell_type": "code",
   "execution_count": null,
   "metadata": {
    "collapsed": false
   },
   "outputs": [],
   "source": [
    "datetime"
   ]
  },
  {
   "cell_type": "code",
   "execution_count": null,
   "metadata": {
    "collapsed": true
   },
   "outputs": [],
   "source": []
  }
 ],
 "metadata": {
  "kernelspec": {
   "display_name": "Python 2",
   "language": "python",
   "name": "python2"
  },
  "language_info": {
   "codemirror_mode": {
    "name": "ipython",
    "version": 2
   },
   "file_extension": ".py",
   "mimetype": "text/x-python",
   "name": "python",
   "nbconvert_exporter": "python",
   "pygments_lexer": "ipython2",
   "version": "2.7.12"
  }
 },
 "nbformat": 4,
 "nbformat_minor": 0
}
