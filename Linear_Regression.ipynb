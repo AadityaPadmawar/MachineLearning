{
 "cells": [
  {
   "cell_type": "code",
   "execution_count": 28,
   "metadata": {
    "collapsed": false
   },
   "outputs": [],
   "source": [
    "import numpy as np\n",
    "import pandas as pd\n",
    "import quandl\n",
    "df = quandl.get('WIKI/GOOGL')\n",
    "import math\n",
    "import datetime\n",
    "from sklearn import preprocessing,cross_validation,svm\n",
    "from sklearn.linear_model import LinearRegression\n",
    "import matplotlib.pyplot as plt\n",
    "from matplotlib import style\n",
    "style.use('ggplot')"
   ]
  },
  {
   "cell_type": "code",
   "execution_count": 29,
   "metadata": {
    "collapsed": false
   },
   "outputs": [
    {
     "data": {
      "text/html": [
       "<div>\n",
       "<table border=\"1\" class=\"dataframe\">\n",
       "  <thead>\n",
       "    <tr style=\"text-align: right;\">\n",
       "      <th></th>\n",
       "      <th>Adj. Open</th>\n",
       "      <th>Adj. High</th>\n",
       "      <th>Adj. Low</th>\n",
       "      <th>Adj. Close</th>\n",
       "      <th>Adj. Volume</th>\n",
       "    </tr>\n",
       "    <tr>\n",
       "      <th>Date</th>\n",
       "      <th></th>\n",
       "      <th></th>\n",
       "      <th></th>\n",
       "      <th></th>\n",
       "      <th></th>\n",
       "    </tr>\n",
       "  </thead>\n",
       "  <tbody>\n",
       "    <tr>\n",
       "      <th>2016-10-18</th>\n",
       "      <td>814.21</td>\n",
       "      <td>828.810</td>\n",
       "      <td>813.330</td>\n",
       "      <td>821.49</td>\n",
       "      <td>2267853.0</td>\n",
       "    </tr>\n",
       "    <tr>\n",
       "      <th>2016-10-19</th>\n",
       "      <td>824.52</td>\n",
       "      <td>829.810</td>\n",
       "      <td>823.205</td>\n",
       "      <td>827.09</td>\n",
       "      <td>1437490.0</td>\n",
       "    </tr>\n",
       "    <tr>\n",
       "      <th>2016-10-20</th>\n",
       "      <td>827.56</td>\n",
       "      <td>828.465</td>\n",
       "      <td>820.550</td>\n",
       "      <td>821.63</td>\n",
       "      <td>1376677.0</td>\n",
       "    </tr>\n",
       "    <tr>\n",
       "      <th>2016-10-21</th>\n",
       "      <td>820.00</td>\n",
       "      <td>824.290</td>\n",
       "      <td>818.310</td>\n",
       "      <td>823.73</td>\n",
       "      <td>1563718.0</td>\n",
       "    </tr>\n",
       "    <tr>\n",
       "      <th>2016-10-24</th>\n",
       "      <td>830.09</td>\n",
       "      <td>837.940</td>\n",
       "      <td>829.040</td>\n",
       "      <td>835.74</td>\n",
       "      <td>1423428.0</td>\n",
       "    </tr>\n",
       "  </tbody>\n",
       "</table>\n",
       "</div>"
      ],
      "text/plain": [
       "            Adj. Open  Adj. High  Adj. Low  Adj. Close  Adj. Volume\n",
       "Date                                                               \n",
       "2016-10-18     814.21    828.810   813.330      821.49    2267853.0\n",
       "2016-10-19     824.52    829.810   823.205      827.09    1437490.0\n",
       "2016-10-20     827.56    828.465   820.550      821.63    1376677.0\n",
       "2016-10-21     820.00    824.290   818.310      823.73    1563718.0\n",
       "2016-10-24     830.09    837.940   829.040      835.74    1423428.0"
      ]
     },
     "execution_count": 29,
     "metadata": {},
     "output_type": "execute_result"
    }
   ],
   "source": [
    "df = df[['Adj. Open','Adj. High','Adj. Low','Adj. Close','Adj. Volume']]\n",
    "df.tail()"
   ]
  },
  {
   "cell_type": "code",
   "execution_count": 30,
   "metadata": {
    "collapsed": false
   },
   "outputs": [
    {
     "data": {
      "text/html": [
       "<div>\n",
       "<table border=\"1\" class=\"dataframe\">\n",
       "  <thead>\n",
       "    <tr style=\"text-align: right;\">\n",
       "      <th></th>\n",
       "      <th>Adj. Close</th>\n",
       "      <th>High_Close</th>\n",
       "      <th>Open_Close</th>\n",
       "      <th>Adj. Volume</th>\n",
       "    </tr>\n",
       "    <tr>\n",
       "      <th>Date</th>\n",
       "      <th></th>\n",
       "      <th></th>\n",
       "      <th></th>\n",
       "      <th></th>\n",
       "    </tr>\n",
       "  </thead>\n",
       "  <tbody>\n",
       "    <tr>\n",
       "      <th>2016-10-18</th>\n",
       "      <td>821.49</td>\n",
       "      <td>0.891064</td>\n",
       "      <td>-0.894118</td>\n",
       "      <td>2267853.0</td>\n",
       "    </tr>\n",
       "    <tr>\n",
       "      <th>2016-10-19</th>\n",
       "      <td>827.09</td>\n",
       "      <td>0.328864</td>\n",
       "      <td>-0.311697</td>\n",
       "      <td>1437490.0</td>\n",
       "    </tr>\n",
       "    <tr>\n",
       "      <th>2016-10-20</th>\n",
       "      <td>821.63</td>\n",
       "      <td>0.831883</td>\n",
       "      <td>0.716564</td>\n",
       "      <td>1376677.0</td>\n",
       "    </tr>\n",
       "    <tr>\n",
       "      <th>2016-10-21</th>\n",
       "      <td>823.73</td>\n",
       "      <td>0.067983</td>\n",
       "      <td>-0.454878</td>\n",
       "      <td>1563718.0</td>\n",
       "    </tr>\n",
       "    <tr>\n",
       "      <th>2016-10-24</th>\n",
       "      <td>835.74</td>\n",
       "      <td>0.263240</td>\n",
       "      <td>-0.680649</td>\n",
       "      <td>1423428.0</td>\n",
       "    </tr>\n",
       "  </tbody>\n",
       "</table>\n",
       "</div>"
      ],
      "text/plain": [
       "            Adj. Close  High_Close  Open_Close  Adj. Volume\n",
       "Date                                                       \n",
       "2016-10-18      821.49    0.891064   -0.894118    2267853.0\n",
       "2016-10-19      827.09    0.328864   -0.311697    1437490.0\n",
       "2016-10-20      821.63    0.831883    0.716564    1376677.0\n",
       "2016-10-21      823.73    0.067983   -0.454878    1563718.0\n",
       "2016-10-24      835.74    0.263240   -0.680649    1423428.0"
      ]
     },
     "execution_count": 30,
     "metadata": {},
     "output_type": "execute_result"
    }
   ],
   "source": [
    "df['High_Close']= (df['Adj. High']-df['Adj. Close'])/df['Adj. Close']*100.0\n",
    "df['Open_Close']= (df['Adj. Open']-df['Adj. Close'])/df['Adj. Open']*100.0\n",
    "df=df[['Adj. Close','High_Close','Open_Close','Adj. Volume']]\n",
    "df.tail()"
   ]
  },
  {
   "cell_type": "code",
   "execution_count": 31,
   "metadata": {
    "collapsed": false
   },
   "outputs": [
    {
     "data": {
      "text/html": [
       "<div>\n",
       "<table border=\"1\" class=\"dataframe\">\n",
       "  <thead>\n",
       "    <tr style=\"text-align: right;\">\n",
       "      <th></th>\n",
       "      <th>Adj. Close</th>\n",
       "      <th>High_Close</th>\n",
       "      <th>Open_Close</th>\n",
       "      <th>Adj. Volume</th>\n",
       "      <th>label_tomorrow_Adj. Close</th>\n",
       "    </tr>\n",
       "    <tr>\n",
       "      <th>Date</th>\n",
       "      <th></th>\n",
       "      <th></th>\n",
       "      <th></th>\n",
       "      <th></th>\n",
       "      <th></th>\n",
       "    </tr>\n",
       "  </thead>\n",
       "  <tbody>\n",
       "    <tr>\n",
       "      <th>2016-10-18</th>\n",
       "      <td>821.49</td>\n",
       "      <td>0.891064</td>\n",
       "      <td>-0.894118</td>\n",
       "      <td>2267853.0</td>\n",
       "      <td>827.09</td>\n",
       "    </tr>\n",
       "    <tr>\n",
       "      <th>2016-10-19</th>\n",
       "      <td>827.09</td>\n",
       "      <td>0.328864</td>\n",
       "      <td>-0.311697</td>\n",
       "      <td>1437490.0</td>\n",
       "      <td>821.63</td>\n",
       "    </tr>\n",
       "    <tr>\n",
       "      <th>2016-10-20</th>\n",
       "      <td>821.63</td>\n",
       "      <td>0.831883</td>\n",
       "      <td>0.716564</td>\n",
       "      <td>1376677.0</td>\n",
       "      <td>823.73</td>\n",
       "    </tr>\n",
       "    <tr>\n",
       "      <th>2016-10-21</th>\n",
       "      <td>823.73</td>\n",
       "      <td>0.067983</td>\n",
       "      <td>-0.454878</td>\n",
       "      <td>1563718.0</td>\n",
       "      <td>835.74</td>\n",
       "    </tr>\n",
       "    <tr>\n",
       "      <th>2016-10-24</th>\n",
       "      <td>835.74</td>\n",
       "      <td>0.263240</td>\n",
       "      <td>-0.680649</td>\n",
       "      <td>1423428.0</td>\n",
       "      <td>NaN</td>\n",
       "    </tr>\n",
       "  </tbody>\n",
       "</table>\n",
       "</div>"
      ],
      "text/plain": [
       "            Adj. Close  High_Close  Open_Close  Adj. Volume  \\\n",
       "Date                                                          \n",
       "2016-10-18      821.49    0.891064   -0.894118    2267853.0   \n",
       "2016-10-19      827.09    0.328864   -0.311697    1437490.0   \n",
       "2016-10-20      821.63    0.831883    0.716564    1376677.0   \n",
       "2016-10-21      823.73    0.067983   -0.454878    1563718.0   \n",
       "2016-10-24      835.74    0.263240   -0.680649    1423428.0   \n",
       "\n",
       "            label_tomorrow_Adj. Close  \n",
       "Date                                   \n",
       "2016-10-18                     827.09  \n",
       "2016-10-19                     821.63  \n",
       "2016-10-20                     823.73  \n",
       "2016-10-21                     835.74  \n",
       "2016-10-24                        NaN  "
      ]
     },
     "execution_count": 31,
     "metadata": {},
     "output_type": "execute_result"
    }
   ],
   "source": [
    "#Shifing label col to tomorrow's close value so  features will be Adj. Close \tHigh_Close \tOpen_Close \tAdj. Volume \n",
    "# and label (to be predicted) is tomorrow's Adj. Close value\n",
    "df['label_tomorrow_Adj. Close']= df['Adj. Close'].shift(-1)\n",
    "#df.dropna(inplace=True)\n",
    "\n",
    "df.tail()\n"
   ]
  },
  {
   "cell_type": "code",
   "execution_count": 34,
   "metadata": {
    "collapsed": false
   },
   "outputs": [
    {
     "data": {
      "text/plain": [
       "3067"
      ]
     },
     "execution_count": 34,
     "metadata": {},
     "output_type": "execute_result"
    }
   ],
   "source": [
    "# Other variables are features to classifier \n",
    "x= np.array(df.drop(['label_tomorrow_Adj. Close'],1))\n",
    "#x is set of features\n",
    "#selecting all elements except last\n",
    "x=x[:-1]\n",
    "# y / Tomorrow's Ajd. Close value is label to classifier\n",
    "#selecting all elements except last\n",
    "y = np.array(df['label_tomorrow_Adj. Close'])\n",
    "y=y[:-1]\n",
    "\n",
    "#Scaling data to same scale\n",
    "#x= preprocessing.scale(x)\n",
    " "
   ]
  },
  {
   "cell_type": "code",
   "execution_count": 36,
   "metadata": {
    "collapsed": false
   },
   "outputs": [
    {
     "name": "stdout",
     "output_type": "stream",
     "text": [
      "0.998774812893\n"
     ]
    },
    {
     "data": {
      "text/plain": [
       "3067"
      ]
     },
     "execution_count": 36,
     "metadata": {},
     "output_type": "execute_result"
    }
   ],
   "source": [
    "#Spliting data into test train set\n",
    "x_train,x_test,y_train,y_test=cross_validation.train_test_split(x,y,test_size=0.5)\n",
    "#Linear Regression Classifier\n",
    "clf = LinearRegression(n_jobs=-1)\n",
    "#Support vector regression classifier\n",
    "#clf =svm.SVR()\n",
    "#training classifier on train data\n",
    "clf.fit(x_train,y_train)\n",
    "#testing model/classifier on test data\n",
    "accuracy = clf.score(x_test,y_test)\n",
    "print(accuracy)\n"
   ]
  },
  {
   "cell_type": "code",
   "execution_count": 38,
   "metadata": {
    "collapsed": false
   },
   "outputs": [
    {
     "name": "stdout",
     "output_type": "stream",
     "text": [
      "[ 835.77469929]\n"
     ]
    },
    {
     "data": {
      "text/plain": [
       "3067"
      ]
     },
     "execution_count": 38,
     "metadata": {},
     "output_type": "execute_result"
    }
   ],
   "source": [
    "last_day=df.iloc[-1:,:4]\n",
    "forecast_set= clf.predict(last_day)\n",
    "print(forecast_set)\n"
   ]
  },
  {
   "cell_type": "code",
   "execution_count": 23,
   "metadata": {
    "collapsed": false
   },
   "outputs": [
    {
     "data": {
      "image/png": "[encoded data removed]",
      "text/plain": [
       "<matplotlib.figure.Figure at 0x7f62c7f47e10>"
      ]
     },
     "metadata": {},
     "output_type": "display_data"
    }
   ],
   "source": [
    "df['forecast']= np.nan\n",
    "last_date=df.iloc[-1].name\n",
    "last_day=last_date.second\n",
    "one_day=86400\n",
    "next_day=one_day+last_day\n",
    "for i in forecast_set:\n",
    "    next_date= datetime.datetime.fromtimestamp(next_day)\n",
    "    next_day=next_day+one_day\n",
    "    df.loc[next_date]=[np.nan for _ in range(len(df.columns)-1)]+[i]\n",
    "df['Adj. Close'].plot()\n",
    "df['forecast'].plot()\n",
    "plt.legend(loc=7)\n",
    "plt.xlabel('Date')\n",
    "plt.ylabel('Price')\n",
    "#plt.axis([2003,2016,0,1000])\n",
    "plt.show()\n"
   ]
  },
  {
   "cell_type": "code",
   "execution_count": 24,
   "metadata": {
    "collapsed": false
   },
   "outputs": [
    {
     "data": {
      "text/html": [
       "<div>\n",
       "<table border=\"1\" class=\"dataframe\">\n",
       "  <thead>\n",
       "    <tr style=\"text-align: right;\">\n",
       "      <th></th>\n",
       "      <th>Adj. Close</th>\n",
       "      <th>High_Close</th>\n",
       "      <th>Open_Close</th>\n",
       "      <th>Adj. Volume</th>\n",
       "      <th>label_tomorrow_Adj. Close</th>\n",
       "      <th>forecast</th>\n",
       "    </tr>\n",
       "  </thead>\n",
       "  <tbody>\n",
       "    <tr>\n",
       "      <th>2016-10-24</th>\n",
       "      <td>835.74</td>\n",
       "      <td>0.26324</td>\n",
       "      <td>-0.680649</td>\n",
       "      <td>1423428.0</td>\n",
       "      <td>NaN</td>\n",
       "      <td>NaN</td>\n",
       "    </tr>\n",
       "  </tbody>\n",
       "</table>\n",
       "</div>"
      ],
      "text/plain": [
       "            Adj. Close  High_Close  Open_Close  Adj. Volume  \\\n",
       "2016-10-24      835.74     0.26324   -0.680649    1423428.0   \n",
       "\n",
       "            label_tomorrow_Adj. Close  forecast  \n",
       "2016-10-24                        NaN       NaN  "
      ]
     },
     "execution_count": 24,
     "metadata": {},
     "output_type": "execute_result"
    }
   ],
   "source": [
    "df.iloc[-2:-1]"
   ]
  },
  {
   "cell_type": "code",
   "execution_count": 25,
   "metadata": {
    "collapsed": false
   },
   "outputs": [
    {
     "data": {
      "text/plain": [
       "3069"
      ]
     },
     "execution_count": 25,
     "metadata": {},
     "output_type": "execute_result"
    }
   ],
   "source": [
    "len(df)"
   ]
  },
  {
   "cell_type": "code",
   "execution_count": null,
   "metadata": {
    "collapsed": true
   },
   "outputs": [],
   "source": []
  }
 ],
 "metadata": {
  "kernelspec": {
   "display_name": "Python 2",
   "language": "python",
   "name": "python2"
  },
  "language_info": {
   "codemirror_mode": {
    "name": "ipython",
    "version": 2
   },
   "file_extension": ".py",
   "mimetype": "text/x-python",
   "name": "python",
   "nbconvert_exporter": "python",
   "pygments_lexer": "ipython2",
   "version": "2.7.12"
  }
 },
 "nbformat": 4,
 "nbformat_minor": 0
}
